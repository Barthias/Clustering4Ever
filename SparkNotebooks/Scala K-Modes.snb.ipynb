{
  "metadata" : {
    "id" : "0231e0eb-10f7-4474-b003-10f507627bf7",
    "name" : "Custom Scala K-Modes C4E",
    "user_save_timestamp" : "1970-01-01T01:00:00.000Z",
    "auto_save_timestamp" : "1970-01-01T01:00:00.000Z",
    "language_info" : {
      "name" : "scala",
      "file_extension" : "scala",
      "codemirror_mode" : "text/x-scala"
    },
    "trusted" : true,
    "sparkNotebook" : null,
    "customLocalRepo" : "${HOME}/.ivy2",
    "customRepos" : [
      "clustering4ever % default % http://dl.bintray.com/clustering4ever/Clustering4Ever % maven"
    ],
    "customDeps" : [
      "com.github.haifengl:smile-scala_2.11:1.5.0",
      "org.apache.sanselan % sanselan % 0.97-incubator",
      "clustering4ever % clustering4ever_2.11 % 0.2.1"
    ],
    "customImports" : null,
    "customArgs" : null,
    "customSparkConf" : null,
    "customVars" : null
  },
  "cells" : [
    {
      "metadata" : {
        "id" : "9BE3CBFDDB324D29914085C97E53D087"
      },
      "cell_type" : "markdown",
      "source" : "# Pure scala _K_-Modes from Clustering4Ever example "
    },
    {
      "metadata" : {
        "trusted" : true,
        "input_collapsed" : false,
        "collapsed" : false,
        "id" : "2723CA508CC84A868DB0D63A7DB41C03"
      },
      "cell_type" : "code",
      "source" : [
        "import smile.plot._\n",
        "import clustering4ever.scala.clustering.kmodes.KModes\n",
        "import clustering4ever.math.distances.binary.{Hamming, Vari, MeanMahanttan}\n",
        "import _root_.scala.io.Source\n",
        "import smile.feature.Standardizer\n",
        "import smile.data.NumericAttribute\n",
        "import smile.data.Attribute.Type._\n",
        "import smile.plot._\n",
        "import smile.projection._\n",
        "import smile.manifold._"
      ],
      "outputs" : [
        {
          "name" : "stdout",
          "output_type" : "stream",
          "text" : "import smile.plot._\nimport clustering4ever.scala.clustering.kmodes.KModes\nimport clustering4ever.math.distances.binary.{Hamming, Vari, MeanMahanttan}\nimport _root_.scala.io.Source\nimport smile.feature.Standardizer\nimport smile.data.NumericAttribute\nimport smile.data.Attribute.Type._\nimport smile.plot._\nimport smile.projection._\nimport smile.manifold._\n"
        },
        {
          "metadata" : { },
          "data" : {
            "text/html" : ""
          },
          "output_type" : "execute_result",
          "execution_count" : 81,
          "time" : "Took: 0.975s, at 2018-04-03 11:36"
        }
      ]
    },
    {
      "metadata" : {
        "id" : "4BEB170294834C8B92F180754CF0F42F"
      },
      "cell_type" : "markdown",
      "source" : "## Import data as Array[(Int, Array[Int])]"
    },
    {
      "metadata" : {
        "trusted" : true,
        "input_collapsed" : false,
        "collapsed" : false,
        "id" : "063B66723A63401CBC2F0A23BE2C2E18"
      },
      "cell_type" : "code",
      "source" : [
        "val path = \"/home/KyBe/tmpDS/digits.csv\"\n",
        "val data = Source.fromFile(path).getLines.map(_.split(\",\").map(_.toInt)).zipWithIndex.map(_.swap).toArray\n",
        "//val data = Array.fill(10000)(Array.fill(10)(scala.util.Random.nextInt(2))).zipWithIndex.map(_.swap)"
      ],
      "outputs" : [
        {
          "name" : "stdout",
          "output_type" : "stream",
          "text" : "path: String = /home/KyBe/tmpDS/digits.csv\ndata: Array[(Int, Array[Int])] = Array((0,Array(0, 1, 1, 1, 1, 1, 1, 1, 1, 1, 1, 1, 0, 0, 0, 1, 1, 1, 1, 1, 1, 1, 1, 1, 1, 1, 1, 1, 0, 0, 1, 1, 1, 1, 1, 0, 0, 0, 1, 1, 1, 1, 1, 1, 0, 1, 1, 1, 1, 0, 0, 0, 0, 0, 1, 1, 1, 1, 1, 0, 1, 1, 1, 1, 0, 0, 0, 0, 0, 1, 1, 1, 1, 1, 0, 1, 1, 1, 1, 0, 0, 0, 0, 0, 1, 1, 1, 1, 1, 0, 1, 1, 1, 1, 0, 0, 0, 0, 0, 0, 1, 1, 1, 1, 1, 1, 1, 1, 1, 0, 0, 0, 0, 0, 0, 1, 1, 1, 1, 1, 1, 1, 1, 1, 0, 0, 0, 0, 0, 0, 1, 1, 1, 1, 1, 1, 1, 1, 1, 0, 0, 0, 0, 0, 0, 1, 1, 1, 1, 1, 1, 1, 1, 1, 0, 0, 0, 0, 0, 1, 1, 1, 1, 1, 1, 1, 1, 1, 1, 0, 0, 0, 0, 0, 1, 1, 1, 1, 1, 0, 1, 1, 1, 1, 0, 0, 0, 0, 0, 1, 1, 1, 1, 1, 0, 1, 1, 1, 1, 1, 1, 0, 0, 1, 1, 1, 1, 1, 0, 0, 1, 1, 1, 1, 1, 1, 1, 1, 1, 1, 1, 1, 1, 0, 0, 0, 0, 1, 1, 1, 1, 1, 1, 1, 1, 1..."
        },
        {
          "metadata" : { },
          "data" : {
            "text/html" : ""
          },
          "output_type" : "execute_result",
          "execution_count" : 4,
          "time" : "Took: 0.856s, at 2018-04-03 10:51"
        }
      ]
    },
    {
      "metadata" : {
        "id" : "DB906BE4458347E98566175F44A41B25"
      },
      "cell_type" : "markdown",
      "source" : "## Parameters "
    },
    {
      "metadata" : {
        "trusted" : true,
        "input_collapsed" : false,
        "collapsed" : false,
        "id" : "7B7F65B92A1849639D25B8260E8FC13D"
      },
      "cell_type" : "code",
      "source" : [
        "val k = 10\n",
        "val iterMax = 100\n",
        "val epsilon = 0.001\n",
        "val metric1 = new Hamming\n",
        "val metric2 = new MeanMahanttan\n",
        "val metric3 = new Vari"
      ],
      "outputs" : [
        {
          "name" : "stdout",
          "output_type" : "stream",
          "text" : "k: Int = 10\niterMax: Int = 100\nepsilon: Double = 0.001\nmetric1: clustering4ever.math.distances.binary.Hamming = clustering4ever.math.distances.binary.Hamming@6d4c2a35\nmetric2: clustering4ever.math.distances.binary.MeanMahanttan = clustering4ever.math.distances.binary.MeanMahanttan@61a64a3f\nmetric3: clustering4ever.math.distances.binary.Vari = clustering4ever.math.distances.binary.Vari@45b865fb\n"
        },
        {
          "metadata" : { },
          "data" : {
            "text/html" : ""
          },
          "output_type" : "execute_result",
          "execution_count" : 6,
          "time" : "Took: 0.469s, at 2018-04-03 10:51"
        }
      ]
    },
    {
      "metadata" : {
        "id" : "351DECE0EB4B4DAE8395D89284DABB26"
      },
      "cell_type" : "markdown",
      "source" : "## Run the algorithm"
    },
    {
      "metadata" : {
        "trusted" : true,
        "input_collapsed" : false,
        "collapsed" : false,
        "id" : "294D274BC10945F999626F121BA54C2F"
      },
      "cell_type" : "code",
      "source" : [
        "val clusterized = KModes.run(data, k, epsilon, iterMax, metric1)"
      ],
      "outputs" : [
        {
          "name" : "stdout",
          "output_type" : "stream",
          "text" : "clusterized: clustering4ever.scala.clustering.kmodes.KModes.ClusterizedData = Array((0,(0,Array(0, 1, 1, 1, 1, 1, 1, 1, 1, 1, 1, 1, 0, 0, 0, 1, 1, 1, 1, 1, 1, 1, 1, 1, 1, 1, 1, 1, 0, 0, 1, 1, 1, 1, 1, 0, 0, 0, 1, 1, 1, 1, 1, 1, 0, 1, 1, 1, 1, 0, 0, 0, 0, 0, 1, 1, 1, 1, 1, 0, 1, 1, 1, 1, 0, 0, 0, 0, 0, 1, 1, 1, 1, 1, 0, 1, 1, 1, 1, 0, 0, 0, 0, 0, 1, 1, 1, 1, 1, 0, 1, 1, 1, 1, 0, 0, 0, 0, 0, 0, 1, 1, 1, 1, 1, 1, 1, 1, 1, 0, 0, 0, 0, 0, 0, 1, 1, 1, 1, 1, 1, 1, 1, 1, 0, 0, 0, 0, 0, 0, 1, 1, 1, 1, 1, 1, 1, 1, 1, 0, 0, 0, 0, 0, 0, 1, 1, 1, 1, 1, 1, 1, 1, 1, 0, 0, 0, 0, 0, 1, 1, 1, 1, 1, 1, 1, 1, 1, 1, 0, 0, 0, 0, 0, 1, 1, 1, 1, 1, 0, 1, 1, 1, 1, 0, 0, 0, 0, 0, 1, 1, 1, 1, 1, 0, 1, 1, 1, 1, 1, 1, 0, 0, 1, 1, 1, 1, 1, 0, 0, 1, 1, 1, 1, 1, 1, 1, 1, 1, 1, 1, 1, 1, 0, 0, 0, 0, 1, 1, 1, 1, 1, 1, 1,..."
        },
        {
          "metadata" : { },
          "data" : {
            "text/html" : ""
          },
          "output_type" : "execute_result",
          "execution_count" : 24,
          "time" : "Took: 0.832s, at 2018-04-03 11:02"
        }
      ]
    },
    {
      "metadata" : {
        "id" : "B38917B84D564700B093991F11C68B81"
      },
      "cell_type" : "markdown",
      "source" : "## Works preferably with Hamming"
    },
    {
      "metadata" : {
        "trusted" : true,
        "input_collapsed" : false,
        "collapsed" : false,
        "id" : "DD1A00D6D9F94C8E8722C0259BA0070E"
      },
      "cell_type" : "code",
      "source" : [
        "val centroids = clusterized.groupBy{ case (clusterID, (_, _)) => clusterID }.map{ case (clusterID, aggregates) =>\n",
        "  {\n",
        "    val centroid = aggregates.map(_._2._2).reduce(_.zip(_).map( x => x._1 + x._2 )).map( v => if( v * 2 >= aggregates.size ) 1 else 0 )\n",
        "    (clusterID, centroid)\n",
        "  }}"
      ],
      "outputs" : [
        {
          "name" : "stdout",
          "output_type" : "stream",
          "text" : "centroids: scala.collection.immutable.Map[Int,Array[Int]] = Map(0 -> Array(0, 0, 0, 0, 0, 0, 1, 1, 1, 1, 1, 1, 1, 1, 0, 0, 0, 0, 0, 0, 1, 1, 1, 1, 1, 1, 1, 1, 1, 1, 0, 0, 0, 0, 1, 1, 1, 1, 1, 1, 1, 1, 1, 1, 1, 0, 0, 0, 1, 1, 1, 1, 1, 1, 1, 1, 1, 1, 1, 0, 0, 0, 1, 1, 1, 1, 1, 1, 1, 1, 1, 1, 1, 1, 0, 0, 0, 1, 1, 1, 1, 1, 1, 1, 1, 1, 1, 1, 1, 0, 0, 1, 1, 1, 1, 1, 1, 1, 1, 1, 1, 1, 1, 1, 0, 0, 1, 1, 1, 1, 1, 1, 1, 1, 1, 1, 1, 1, 1, 0, 0, 0, 1, 1, 1, 1, 1, 1, 1, 1, 1, 1, 1, 0, 0, 0, 0, 1, 1, 1, 1, 1, 1, 1, 1, 1, 1, 1, 0, 0, 0, 0, 0, 0, 1, 1, 1, 1, 1, 1, 1, 1, 1, 0, 0, 0, 0, 0, 0, 1, 1, 1, 1, 1, 1, 1, 1, 1, 0, 0, 0, 0, 0, 0, 1, 1, 1, 1, 1, 1, 1, 1, 1, 0, 0, 0, 0, 0, 1, 1, 1, 1, 1, 1, 1, 1, 1, 1, 0, 0, 0, 0, 0, 1, 1, 1, 1, 1, 1, 1, 1, 1, 0, 0, 0, 0, 0, 0, 0, 1, 1, 1, 1, 1, 1, 1, 1, 0, 0, 0), 5..."
        },
        {
          "metadata" : { },
          "data" : {
            "text/html" : ""
          },
          "output_type" : "execute_result",
          "execution_count" : 21,
          "time" : "Took: 0.573s, at 2018-04-03 11:01"
        }
      ]
    },
    {
      "metadata" : {
        "id" : "75D83A1152AE494A8943132E772C517F"
      },
      "cell_type" : "markdown",
      "source" : "### Transform binary data into a grid to visualize it. Here a 15 x 16 grid for digits data"
    },
    {
      "metadata" : {
        "trusted" : true,
        "input_collapsed" : false,
        "collapsed" : false,
        "id" : "9DD362D187534AC58D796A2476EFA040"
      },
      "cell_type" : "code",
      "source" : [
        "val formatedCentroids = centroids.map(_._2).map(_.map(_.toDouble).grouped(15).toArray)"
      ],
      "outputs" : [
        {
          "name" : "stdout",
          "output_type" : "stream",
          "text" : "formatedCentroids: scala.collection.immutable.Iterable[Array[Array[Double]]] = List(Array(Array(0.0, 0.0, 0.0, 0.0, 0.0, 0.0, 1.0, 1.0, 1.0, 1.0, 1.0, 1.0, 1.0, 1.0, 0.0), Array(0.0, 0.0, 0.0, 0.0, 0.0, 1.0, 1.0, 1.0, 1.0, 1.0, 1.0, 1.0, 1.0, 1.0, 1.0), Array(0.0, 0.0, 0.0, 0.0, 1.0, 1.0, 1.0, 1.0, 1.0, 1.0, 1.0, 1.0, 1.0, 1.0, 1.0), Array(0.0, 0.0, 0.0, 1.0, 1.0, 1.0, 1.0, 1.0, 1.0, 1.0, 1.0, 1.0, 1.0, 1.0, 0.0), Array(0.0, 0.0, 1.0, 1.0, 1.0, 1.0, 1.0, 1.0, 1.0, 1.0, 1.0, 1.0, 1.0, 1.0, 0.0), Array(0.0, 0.0, 1.0, 1.0, 1.0, 1.0, 1.0, 1.0, 1.0, 1.0, 1.0, 1.0, 1.0, 1.0, 0.0), Array(0.0, 1.0, 1.0, 1.0, 1.0, 1.0, 1.0, 1.0, 1.0, 1.0, 1.0, 1.0, 1.0, 1.0, 0.0), Array(0.0, 1.0, 1.0, 1.0, 1.0, 1.0, 1.0, 1.0, 1.0, 1.0, 1.0, 1.0, 1.0, 1.0, 0.0), Array(0.0, 0.0, 1.0, 1.0, 1.0, 1.0, 1.0, 1.0, 1.0, ..."
        },
        {
          "metadata" : { },
          "data" : {
            "text/html" : ""
          },
          "output_type" : "execute_result",
          "execution_count" : 22,
          "time" : "Took: 0.468s, at 2018-04-03 11:01"
        }
      ]
    },
    {
      "metadata" : {
        "id" : "5550C9C24D804A41969553DB880FA709"
      },
      "cell_type" : "markdown",
      "source" : "### Visualize centroids"
    },
    {
      "metadata" : {
        "trusted" : true,
        "input_collapsed" : false,
        "collapsed" : false,
        "id" : "C0BE5A643DED41CB89B4004FFEF51F3F"
      },
      "cell_type" : "code",
      "source" : [
        "formatedCentroids.foreach( centroid => hexmap(centroid, Array(Palette.BLACK, Palette.LIGHT_GRAY)))"
      ],
      "outputs" : [
        {
          "metadata" : { },
          "data" : {
            "text/html" : ""
          },
          "output_type" : "execute_result",
          "execution_count" : 23,
          "time" : "Took: 2.726s, at 2018-04-03 11:02"
        }
      ]
    },
    {
      "metadata" : {
        "id" : "44CE1D500444471AA391D7A8CDA4C01F"
      },
      "cell_type" : "markdown",
      "source" : "## Standardize data and apply a PCA on it"
    },
    {
      "metadata" : {
        "trusted" : true,
        "input_collapsed" : false,
        "collapsed" : false,
        "id" : "D9F740AA5DC14DAA85D06F16F35272D3"
      },
      "cell_type" : "code",
      "source" : [
        "val types = for( i <- (0 until data.head._2.size).toArray ) yield(new NumericAttribute(i.toString))\n",
        "\n",
        "\n",
        "val standardize = new Standardizer\n",
        "\n",
        "val dataAsDouble = data.map(_._2.map(_.toDouble))\n",
        "\n",
        "standardize.learn(types.toArray, dataAsDouble)\n",
        "\n",
        "val standardizedData = clusterized.map{ case (clusterID, (id, v)) => (clusterID, (id, standardize.transform(v.map(_.toDouble)))) }"
      ],
      "outputs" : [
        {
          "name" : "stdout",
          "output_type" : "stream",
          "text" : "types: Array[smile.data.NumericAttribute] = Array(NUMERIC[0], NUMERIC[1], NUMERIC[2], NUMERIC[3], NUMERIC[4], NUMERIC[5], NUMERIC[6], NUMERIC[7], NUMERIC[8], NUMERIC[9], NUMERIC[10], NUMERIC[11], NUMERIC[12], NUMERIC[13], NUMERIC[14], NUMERIC[15], NUMERIC[16], NUMERIC[17], NUMERIC[18], NUMERIC[19], NUMERIC[20], NUMERIC[21], NUMERIC[22], NUMERIC[23], NUMERIC[24], NUMERIC[25], NUMERIC[26], NUMERIC[27], NUMERIC[28], NUMERIC[29], NUMERIC[30], NUMERIC[31], NUMERIC[32], NUMERIC[33], NUMERIC[34], NUMERIC[35], NUMERIC[36], NUMERIC[37], NUMERIC[38], NUMERIC[39], NUMERIC[40], NUMERIC[41], NUMERIC[42], NUMERIC[43], NUMERIC[44], NUMERIC[45], NUMERIC[46], NUMERIC[47], NUMERIC[48], NUMERIC[49], NUMERIC[50], NUMERIC[51], NUMERIC[52], NUMERIC[53], NUMERIC[54], NUMERIC[55], NUMERIC[56], NUMERIC[57], NUM..."
        },
        {
          "metadata" : { },
          "data" : {
            "text/html" : ""
          },
          "output_type" : "execute_result",
          "execution_count" : 74,
          "time" : "Took: 1.715s, at 2018-04-03 11:32"
        }
      ]
    },
    {
      "metadata" : {
        "trusted" : true,
        "input_collapsed" : false,
        "collapsed" : false,
        "id" : "A072ED82DAEF4354894B1ACA8B0CCC44"
      },
      "cell_type" : "code",
      "source" : [
        "val readyToPca = standardizedData.map(_._2._2)\n",
        "\n",
        "val pcaModel = pca(readyToPca)\n",
        "\n",
        "pcaModel.setProjection(3)\n",
        "\n",
        "val pcaizedData = standardizedData.map{ case (clusterID, (id, v)) => (clusterID, pcaModel.project(v)) }"
      ],
      "outputs" : [
        {
          "name" : "stdout",
          "output_type" : "stream",
          "text" : "readyToPca: Array[Array[Double]] = Array(Array(-0.4691973206300246, 1.3790599120157478, 0.9947636535218598, 0.7311989859280826, 0.5818236344745712, 0.4731577041265375, 0.4050460242033411, 0.3752743814604061, 0.3838921816267829, 0.45004943939012954, 0.5440847285433487, 0.7135679682293894, -1.0209698667667724, -0.7473734209867955, -0.4818399603409751, 1.491540662666324, 0.9433525261840586, 0.6889766255545046, 0.5386811852615968, 0.4419949476766309, 0.36391836974993397, 0.30373202063736837, 0.2784733628071156, 0.3076416819747157, 0.3577255499568549, 0.42899948314926056, 0.5502546049722432, 0.7040158872382919, -1.0353755795234765, -0.6646353033940223, 1.4165151032000982, 0.866566690088696, 0.6622910964242819, 0.5502546049722432, 0.4620448429462271, -2.220867114853963, -2.0542203262612957, -..."
        },
        {
          "metadata" : { },
          "data" : {
            "text/html" : ""
          },
          "output_type" : "execute_result",
          "execution_count" : 76,
          "time" : "Took: 3.298s, at 2018-04-03 11:34"
        }
      ]
    },
    {
      "metadata" : {
        "trusted" : true,
        "input_collapsed" : false,
        "collapsed" : false,
        "id" : "7B84A761EE9A49DAA52B2E48BC936981"
      },
      "cell_type" : "code",
      "source" : [
        "val pureData = pcaizedData.map(_._2)\n",
        "val labels = pcaizedData.map(_._1)"
      ],
      "outputs" : [
        {
          "name" : "stdout",
          "output_type" : "stream",
          "text" : "pureData: Array[Array[Double]] = Array(Array(1.4343636769772636, 8.948478418342326, 3.5644478677761446), Array(0.5878159649979046, 6.747096715338679, 0.19939856981510198), Array(3.9295652209854746, 7.155675096999281, 1.966755958875869), Array(0.8069634823406622, 6.680260928147549, 2.4535481241983628), Array(4.37814085864658, 6.1955065981093, 0.9284382326756649), Array(0.5616263302609521, -2.698258889905133, -3.4208111658723466), Array(3.878614564933129, 7.954857010572476, 5.246961130800018), Array(3.0187037798608647, 7.364614511747231, 3.639945087572478), Array(3.5223405490142548, 7.999860038872889, 5.130979155561199), Array(2.1152640681280617, 6.562046864106269, 4.384189818622122), Array(2.8699447038591197, 6.493623439712103, 2.3743756094660755), Array(3.7449128669085905, 6.47823352430..."
        },
        {
          "metadata" : { },
          "data" : {
            "text/html" : ""
          },
          "output_type" : "execute_result",
          "execution_count" : 90,
          "time" : "Took: 1.185s, at 2018-04-03 11:40"
        }
      ]
    },
    {
      "metadata" : {
        "trusted" : true,
        "input_collapsed" : false,
        "collapsed" : false,
        "id" : "24A032582F064CC9813146E65BD507C3"
      },
      "cell_type" : "code",
      "source" : [
        "plot(pureData, labels, '.', Palette.COLORS)"
      ],
      "outputs" : [
        {
          "name" : "stdout",
          "output_type" : "stream",
          "text" : "res124: smile.plot.Window = Window(javax.swing.JFrame[frame5,460,53,1000x1000,invalid,layout=java.awt.BorderLayout,title=Smile Plot 26,resizable,normal,defaultCloseOperation=DISPOSE_ON_CLOSE,rootPane=javax.swing.JRootPane[,5,25,990x970,invalid,layout=javax.swing.JRootPane$RootLayout,alignmentX=0.0,alignmentY=0.0,border=,flags=16777673,maximumSize=,minimumSize=,preferredSize=],rootPaneCheckingEnabled=true],smile.plot.PlotCanvas[,0,0,0x0,invalid,layout=java.awt.BorderLayout,alignmentX=0.0,alignmentY=0.0,border=,flags=9,maximumSize=,minimumSize=,preferredSize=])\n"
        },
        {
          "metadata" : { },
          "data" : {
            "text/html" : "Window(javax.swing.JFrame[frame5,460,53,1000x1000,layout=java.awt.BorderLayout,title=Smile Plot 26,resizable,normal,defaultCloseOperation=DISPOSE_ON_CLOSE,rootPane=javax.swing.JRootPane[,0,34,1000x966,layout=javax.swing.JRootPane$RootLayout,alignmentX=0.0,alignmentY=0.0,border=,flags=16777675,maximumSize=,minimumSize=,preferredSize=],rootPaneCheckingEnabled=true],smile.plot.PlotCanvas[,0,0,1000x966,layout=java.awt.BorderLayout,alignmentX=0.0,alignmentY=0.0,border=,flags=11,maximumSize=,minimumSize=,preferredSize=])"
          },
          "output_type" : "execute_result",
          "execution_count" : 91,
          "time" : "Took: 1.313s, at 2018-04-03 11:41"
        }
      ]
    },
    {
      "metadata" : {
        "id" : "8C65FA084E1B4C748B4D60002C07AE4D"
      },
      "cell_type" : "markdown",
      "source" : "## Visualization with t-sne"
    },
    {
      "metadata" : {
        "trusted" : true,
        "input_collapsed" : false,
        "collapsed" : false,
        "id" : "C93A5C822CB24619B8D89804171B93D6"
      },
      "cell_type" : "code",
      "source" : [
        "val sne = tsne(readyToPca, 3)"
      ],
      "outputs" : [
        {
          "name" : "stdout",
          "output_type" : "stream",
          "text" : "sne: smile.manifold.TSNE = smile.manifold.TSNE@7e74cde9\n"
        },
        {
          "metadata" : { },
          "data" : {
            "text/html" : ""
          },
          "output_type" : "execute_result",
          "execution_count" : 82,
          "time" : "Took: 33.827s, at 2018-04-03 11:38"
        }
      ]
    },
    {
      "metadata" : {
        "trusted" : true,
        "input_collapsed" : false,
        "collapsed" : false,
        "id" : "E6A33F4229C5498F9A9C25C56EB1DACC"
      },
      "cell_type" : "code",
      "source" : [
        "plot(sne.getCoordinates, labels, '.', Palette.COLORS)"
      ],
      "outputs" : [
        {
          "name" : "stdout",
          "output_type" : "stream",
          "text" : "res126: smile.plot.Window = Window(javax.swing.JFrame[frame6,460,53,1000x1000,invalid,layout=java.awt.BorderLayout,title=Smile Plot 27,resizable,normal,defaultCloseOperation=DISPOSE_ON_CLOSE,rootPane=javax.swing.JRootPane[,5,25,990x970,invalid,layout=javax.swing.JRootPane$RootLayout,alignmentX=0.0,alignmentY=0.0,border=,flags=16777675,maximumSize=,minimumSize=,preferredSize=],rootPaneCheckingEnabled=true],smile.plot.PlotCanvas[,0,0,0x0,invalid,layout=java.awt.BorderLayout,alignmentX=0.0,alignmentY=0.0,border=,flags=9,maximumSize=,minimumSize=,preferredSize=])\n"
        },
        {
          "metadata" : { },
          "data" : {
            "text/html" : "Window(javax.swing.JFrame[frame6,460,53,1000x1000,layout=java.awt.BorderLayout,title=Smile Plot 27,resizable,normal,defaultCloseOperation=DISPOSE_ON_CLOSE,rootPane=javax.swing.JRootPane[,0,34,1000x966,layout=javax.swing.JRootPane$RootLayout,alignmentX=0.0,alignmentY=0.0,border=,flags=16777675,maximumSize=,minimumSize=,preferredSize=],rootPaneCheckingEnabled=true],smile.plot.PlotCanvas[,0,0,1000x966,layout=java.awt.BorderLayout,alignmentX=0.0,alignmentY=0.0,border=,flags=11,maximumSize=,minimumSize=,preferredSize=])"
          },
          "output_type" : "execute_result",
          "execution_count" : 92,
          "time" : "Took: 1.306s, at 2018-04-03 11:41"
        }
      ]
    }
  ],
  "nbformat" : 4
}